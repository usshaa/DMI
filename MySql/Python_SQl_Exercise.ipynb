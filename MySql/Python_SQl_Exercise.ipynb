{
  "nbformat": 4,
  "nbformat_minor": 0,
  "metadata": {
    "colab": {
      "provenance": [],
      "authorship_tag": "ABX9TyOqZwZdfLZWKhmgXurr/rR5",
      "include_colab_link": true
    },
    "kernelspec": {
      "name": "python3",
      "display_name": "Python 3"
    },
    "language_info": {
      "name": "python"
    }
  },
  "cells": [
    {
      "cell_type": "markdown",
      "metadata": {
        "id": "view-in-github",
        "colab_type": "text"
      },
      "source": [
        "<a href=\"https://colab.research.google.com/github/usshaa/DMI/blob/main/MySql/Python_SQl_Exercise.ipynb\" target=\"_parent\"><img src=\"https://colab.research.google.com/assets/colab-badge.svg\" alt=\"Open In Colab\"/></a>"
      ]
    },
    {
      "cell_type": "markdown",
      "source": [
        "# Import Required Libraries\n",
        "Import the necessary libraries, such as mysql.connector, for connecting to and interacting with a MySQL database."
      ],
      "metadata": {
        "id": "_azpnrXNwmI1"
      }
    },
    {
      "cell_type": "code",
      "execution_count": 1,
      "metadata": {
        "id": "FO09G9VLCgX3",
        "colab": {
          "base_uri": "https://localhost:8080/"
        },
        "outputId": "8dc9f553-7c0f-4d96-e695-4bae4d9a6d1e"
      },
      "outputs": [
        {
          "output_type": "stream",
          "name": "stdout",
          "text": [
            "Collecting pysqlite3\n",
            "  Downloading pysqlite3-0.5.4.tar.gz (40 kB)\n",
            "\u001b[?25l     \u001b[90m━━━━━━━━━━━━━━━━━━━━━━━━━━━━━━━━━━━━━━━━\u001b[0m \u001b[32m0.0/40.7 kB\u001b[0m \u001b[31m?\u001b[0m eta \u001b[36m-:--:--\u001b[0m\r\u001b[2K     \u001b[90m━━━━━━━━━━━━━━━━━━━━━━━━━━━━━━━━━━━━━━━━\u001b[0m \u001b[32m40.7/40.7 kB\u001b[0m \u001b[31m2.3 MB/s\u001b[0m eta \u001b[36m0:00:00\u001b[0m\n",
            "\u001b[?25h  Preparing metadata (setup.py) ... \u001b[?25l\u001b[?25hdone\n",
            "Building wheels for collected packages: pysqlite3\n",
            "  Building wheel for pysqlite3 (setup.py) ... \u001b[?25l\u001b[?25hdone\n",
            "  Created wheel for pysqlite3: filename=pysqlite3-0.5.4-cp311-cp311-linux_x86_64.whl size=159235 sha256=834c66021e375588ee3af495a36d71d16f3990a7b615a4c953ea007ea6d10455\n",
            "  Stored in directory: /root/.cache/pip/wheels/83/05/4e/8fb9d7378ff72e4fd02b69df7a6052c34d33cea2a0231ca232\n",
            "Successfully built pysqlite3\n",
            "Installing collected packages: pysqlite3\n",
            "Successfully installed pysqlite3-0.5.4\n"
          ]
        }
      ],
      "source": [
        "!pip install pysqlite3\n"
      ]
    },
    {
      "cell_type": "code",
      "source": [
        "\n",
        "import sqlite3"
      ],
      "metadata": {
        "id": "Z24y0m2cykpX"
      },
      "execution_count": 2,
      "outputs": []
    },
    {
      "cell_type": "markdown",
      "source": [
        "# Connect to MySQL Database\n",
        "Establish a connection to the MySQL database using mysql.connector.connect()."
      ],
      "metadata": {
        "id": "fIWAPrOSwtTp"
      }
    },
    {
      "cell_type": "code",
      "source": [
        "import sqlite3\n",
        "\n",
        "conn = sqlite3.connect('mydatabase.db')\n",
        "cursor = conn.cursor()\n",
        "print(\"Opened database successfully\")\n",
        "# Perform database operations here\n",
        "\n",
        "conn.close()\n"
      ],
      "metadata": {
        "colab": {
          "base_uri": "https://localhost:8080/"
        },
        "id": "plglyS8mS-6V",
        "outputId": "ff8bf24e-36ab-41c7-ace0-0927b2f3d65c"
      },
      "execution_count": 3,
      "outputs": [
        {
          "output_type": "stream",
          "name": "stdout",
          "text": [
            "Opened database successfully\n"
          ]
        }
      ]
    },
    {
      "cell_type": "markdown",
      "source": [
        "# Exercise 1: Create a New Database\n",
        "Write a Python script to create a new database in MySQL using the CREATE DATABASE SQL command."
      ],
      "metadata": {
        "id": "Ps9JBASGwz7e"
      }
    },
    {
      "cell_type": "code",
      "source": [
        "\n"
      ],
      "metadata": {
        "id": "IGZIYgi0zBuO"
      },
      "execution_count": null,
      "outputs": []
    },
    {
      "cell_type": "markdown",
      "source": [
        "# Exercise 2: Create a Table\n",
        "Write a Python script to create a new table in the database using the CREATE TABLE SQL command."
      ],
      "metadata": {
        "id": "Z1FxNyfOw2jV"
      }
    },
    {
      "cell_type": "code",
      "source": [],
      "metadata": {
        "id": "mzlu4LvAw5C9"
      },
      "execution_count": null,
      "outputs": []
    },
    {
      "cell_type": "markdown",
      "source": [
        "# Exercise 3: Insert Data into the Table\n",
        "Write a Python script to insert multiple rows of data into the table using the INSERT INTO SQL command."
      ],
      "metadata": {
        "id": "HM-H_Ilyw8pj"
      }
    },
    {
      "cell_type": "code",
      "source": [],
      "metadata": {
        "id": "w0YUEn2Pw9Fq"
      },
      "execution_count": null,
      "outputs": []
    },
    {
      "cell_type": "markdown",
      "source": [
        "# Exercise 4: Query Data from the Table\n",
        "Write a Python script to retrieve data from the table using the SELECT SQL command."
      ],
      "metadata": {
        "id": "iDomcNJew_Vj"
      }
    },
    {
      "cell_type": "code",
      "source": [],
      "metadata": {
        "id": "WtZhB910xCf7"
      },
      "execution_count": null,
      "outputs": []
    },
    {
      "cell_type": "markdown",
      "source": [
        "# Exercise 5: Update and Delete Data\n",
        "Write a Python script to update specific rows in the table using the UPDATE SQL command and delete specific rows using the DELETE SQL command."
      ],
      "metadata": {
        "id": "ZYWS--evxDAP"
      }
    },
    {
      "cell_type": "code",
      "source": [],
      "metadata": {
        "id": "dH_TZ_rkxKWt"
      },
      "execution_count": null,
      "outputs": []
    },
    {
      "cell_type": "markdown",
      "source": [
        "# Exercise 6: Create a New Database\n",
        "Write a Python script to create a new database named `test_db`."
      ],
      "metadata": {
        "id": "cXGCW1T7xMih"
      }
    },
    {
      "cell_type": "code",
      "source": [],
      "metadata": {
        "id": "BC0dGYZixQeL"
      },
      "execution_count": null,
      "outputs": []
    },
    {
      "cell_type": "markdown",
      "source": [
        "# Exercise 7: Create a Table\n",
        "Write a Python script to create a table named `users` with columns `id`, `name`, and `email` in the `test_db` database."
      ],
      "metadata": {
        "id": "dvxiMsf7x9Fp"
      }
    },
    {
      "cell_type": "code",
      "source": [],
      "metadata": {
        "id": "bsQkuJMcxSSA"
      },
      "execution_count": null,
      "outputs": []
    },
    {
      "cell_type": "markdown",
      "source": [
        "# Exercise 8: Insert Data into Table\n",
        "Write a Python script to insert a new user with name `John Doe` and email `john.doe@example.com` into the `users` table."
      ],
      "metadata": {
        "id": "INyMnnfFyCGm"
      }
    },
    {
      "cell_type": "code",
      "source": [],
      "metadata": {
        "id": "5OKTxnOIyEyW"
      },
      "execution_count": null,
      "outputs": []
    },
    {
      "cell_type": "markdown",
      "source": [
        "# Exercise 9: Fetch Data from Table\n",
        "Write a Python script to fetch and display all records from the `users` table."
      ],
      "metadata": {
        "id": "q9C_1k_jyF_E"
      }
    },
    {
      "cell_type": "code",
      "source": [],
      "metadata": {
        "id": "AXkaeMr9yIh5"
      },
      "execution_count": null,
      "outputs": []
    }
  ]
}