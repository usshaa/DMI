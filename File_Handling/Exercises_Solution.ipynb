{
 "cells": [
  {
   "cell_type": "markdown",
   "id": "83c86c52",
   "metadata": {},
   "source": [
    "# Exercise 1: Opening and Closing a File\n",
    "Open a file named `exercise1.txt` in write mode, write the text 'Hello, File Handling!', and then close the file."
   ]
  },
  {
   "cell_type": "code",
   "execution_count": null,
   "id": "e1725f1d",
   "metadata": {},
   "outputs": [],
   "source": [
    "# Solution: Opening and closing a file\n",
    "file = open('exercise1.txt', 'w')\n",
    "file.write('Hello, File Handling!')\n",
    "file.close()"
   ]
  },
  {
   "cell_type": "markdown",
   "id": "ea3e7244",
   "metadata": {},
   "source": [
    "# Exercise 2: Reading from a File\n",
    "Open the file `exercise1.txt` in read mode and print its contents."
   ]
  },
  {
   "cell_type": "code",
   "execution_count": null,
   "id": "1d9b8b54",
   "metadata": {},
   "outputs": [],
   "source": [
    "# Solution: Reading from a file\n",
    "file = open('exercise1.txt', 'r')\n",
    "print(file.read())\n",
    "file.close()"
   ]
  },
  {
   "cell_type": "markdown",
   "id": "73a6e64c",
   "metadata": {},
   "source": [
    "# Exercise 3: Writing Multiple Lines\n",
    "Write the following lines to a file named `exercise3.txt`:\n",
    "- Line 1\n",
    "- Line 2\n",
    "- Line 3"
   ]
  },
  {
   "cell_type": "code",
   "execution_count": null,
   "id": "d6601985",
   "metadata": {},
   "outputs": [],
   "source": [
    "# Solution: Writing multiple lines\n",
    "file = open('exercise3.txt', 'w')\n",
    "file.writelines(['Line 1\n",
    "', 'Line 2\n",
    "', 'Line 3\n",
    "'])\n",
    "file.close()"
   ]
  },
  {
   "cell_type": "markdown",
   "id": "33a1a849",
   "metadata": {},
   "source": [
    "# Exercise 4: Handling Binary Files\n",
    "Create a binary file named `exercise4.bin` and write the binary data `b'Binary Data Example'` to it."
   ]
  },
  {
   "cell_type": "code",
   "execution_count": null,
   "id": "471f6f56",
   "metadata": {},
   "outputs": [],
   "source": [
    "# Solution: Handling binary files\n",
    "with open('exercise4.bin', 'wb') as file:\n",
    "    file.write(b'Binary Data Example')"
   ]
  },
  {
   "cell_type": "markdown",
   "id": "aeecf0b0",
   "metadata": {},
   "source": [
    "# Exercise 5: Sequential and Random Access\n",
    "Open the file `exercise3.txt` and read the second line using the `seek()` method."
   ]
  },
  {
   "cell_type": "code",
   "execution_count": null,
   "id": "07591054",
   "metadata": {},
   "outputs": [],
   "source": [
    "# Solution: Sequential and random access\n",
    "file = open('exercise3.txt', 'r')\n",
    "file.seek(7)  # Assuming each line is 7 characters including newline\n",
    "print(file.readline().strip())\n",
    "file.close()"
   ]
  },
  {
   "cell_type": "markdown",
   "id": "3bf02def",
   "metadata": {},
   "source": [
    "# Exercise 6: Reading a CSV File\n",
    "Read the contents of `data.csv` and print each row."
   ]
  },
  {
   "cell_type": "code",
   "execution_count": null,
   "id": "307d4284",
   "metadata": {},
   "outputs": [],
   "source": [
    "# Solution: Reading a CSV file\n",
    "import csv\n",
    "with open('data.csv', 'r') as csvfile:\n",
    "    reader = csv.reader(csvfile)\n",
    "    for row in reader:\n",
    "        print(row)"
   ]
  },
  {
   "cell_type": "markdown",
   "id": "ca3f2677",
   "metadata": {},
   "source": [
    "# Exercise 7: Writing to a CSV File\n",
    "Write the following data to a CSV file named `exercise7.csv`:\n",
    "- Name, Age, City\n",
    "- Alice, 30, New York\n",
    "- Bob, 25, Los Angeles"
   ]
  },
  {
   "cell_type": "code",
   "execution_count": null,
   "id": "9e51db06",
   "metadata": {},
   "outputs": [],
   "source": [
    "# Solution: Writing to a CSV file\n",
    "with open('exercise7.csv', 'w', newline='') as csvfile:\n",
    "    writer = csv.writer(csvfile)\n",
    "    writer.writerow(['Name', 'Age', 'City'])\n",
    "    writer.writerow(['Alice', 30, 'New York'])\n",
    "    writer.writerow(['Bob', 25, 'Los Angeles'])"
   ]
  }
 ],
 "metadata": {
  "language_info": {
   "name": "python"
  }
 },
 "nbformat": 4,
 "nbformat_minor": 5
}
