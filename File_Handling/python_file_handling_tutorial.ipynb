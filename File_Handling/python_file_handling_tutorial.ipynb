{
 "cells": [
  {
   "cell_type": "markdown",
   "id": "f139eb78",
   "metadata": {},
   "source": [
    "# Python File Handling Tutorial\n",
    "This notebook covers Python file handling step by step, including file objects, methods, opening and closing files, input/output operations, handling binary files, sequential and random access files, and working with CSV files."
   ]
  },
  {
   "cell_type": "markdown",
   "id": "92222d97",
   "metadata": {},
   "source": [
    "## 1. File Objects and Methods\n",
    "### Opening and Closing Files\n",
    "Python provides the `open()` function to open files in different modes.\n",
    "\n",
    "### Modes of File Opening:\n",
    "- `r`: Read mode\n",
    "- `w`: Write mode\n",
    "- `a`: Append mode\n",
    "- `b`: Binary mode\n",
    "\n",
    "### Examples:"
   ]
  },
  {
   "cell_type": "code",
   "execution_count": 10,
   "id": "daf34760",
   "metadata": {},
   "outputs": [],
   "source": [
    "# Example 1: Writing to a file\n",
    "file = open('example.txt', 'w')\n",
    "file.write('This is a new file content.')\n",
    "file.close()"
   ]
  },
  {
   "cell_type": "code",
   "execution_count": 11,
   "id": "7f1249de",
   "metadata": {},
   "outputs": [
    {
     "name": "stdout",
     "output_type": "stream",
     "text": [
      "This is a new file content.\n"
     ]
    }
   ],
   "source": [
    "# Example 2: Opening a file in read mode\n",
    "file = open('example.txt', 'r')\n",
    "print(file.read())\n",
    "\n",
    "file.close()"
   ]
  },
  {
   "cell_type": "code",
   "execution_count": 12,
   "id": "9c5c9bd7",
   "metadata": {},
   "outputs": [],
   "source": [
    "# Example 3: Appending to a file\n",
    "file = open('example.txt', 'a')\n",
    "file.write(' Appending new content.')\n",
    "file.close()"
   ]
  },
  {
   "cell_type": "code",
   "execution_count": 13,
   "id": "19c4d9ca",
   "metadata": {},
   "outputs": [
    {
     "name": "stdout",
     "output_type": "stream",
     "text": [
      "This is a new file content. Appending new content.\n"
     ]
    }
   ],
   "source": [
    "# Example 4: Using with statement\n",
    "with open('example.txt', 'r') as file:\n",
    "    print(file.read())"
   ]
  },
  {
   "cell_type": "code",
   "execution_count": 14,
   "id": "b231c5fd",
   "metadata": {},
   "outputs": [
    {
     "name": "stdout",
     "output_type": "stream",
     "text": [
      "File mode: r\n"
     ]
    }
   ],
   "source": [
    "# Example 5: Checking file mode\n",
    "file = open('example.txt', 'r')\n",
    "print('File mode:', file.mode)\n",
    "file.close()"
   ]
  },
  {
   "cell_type": "markdown",
   "id": "cf036a6c",
   "metadata": {},
   "source": [
    "## 2. Input and Output Operations\n",
    "Python allows reading and writing to files using methods like `read()`, `readline()`, `readlines()`, `write()`, and `writelines()`.\n",
    "\n",
    "### Examples:"
   ]
  },
  {
   "cell_type": "code",
   "execution_count": null,
   "id": "93db5133",
   "metadata": {},
   "outputs": [],
   "source": [
    "# Example 1: Writing multiple lines\n",
    "file = open('example.txt', 'w')\n",
    "file.writelines(['Line 1 \\n','Line 2 \\n','Line 3 \\n'])\n",
    "file.close()\n"
   ]
  },
  {
   "cell_type": "code",
   "execution_count": 33,
   "id": "3cd958d2",
   "metadata": {},
   "outputs": [
    {
     "name": "stdout",
     "output_type": "stream",
     "text": [
      "['Line 1 \\n', 'Line 2 \\n', 'Line 3 \\n']\n"
     ]
    }
   ],
   "source": [
    "# Example 2: Reading all lines\n",
    "file = open('example.txt', 'r')\n",
    "print(file.readlines())\n",
    "file.close()"
   ]
  },
  {
   "cell_type": "code",
   "execution_count": 34,
   "id": "718c5ed7",
   "metadata": {},
   "outputs": [
    {
     "name": "stdout",
     "output_type": "stream",
     "text": [
      "Line 1\n",
      "Line 2\n",
      "Line 3\n"
     ]
    }
   ],
   "source": [
    "# Example 3: Reading line by line\n",
    "file = open('example.txt', 'r')\n",
    "for line in file:\n",
    "    print(line.strip())\n",
    "file.close()"
   ]
  },
  {
   "cell_type": "code",
   "execution_count": 35,
   "id": "cfaae760",
   "metadata": {},
   "outputs": [],
   "source": [
    "# Example 4: Writing and reading binary data\n",
    "file = open('binary_example.bin', 'wb')\n",
    "file.write(b'Binary data example')\n",
    "file.close()"
   ]
  },
  {
   "cell_type": "code",
   "execution_count": 36,
   "id": "6b38853f",
   "metadata": {},
   "outputs": [
    {
     "name": "stdout",
     "output_type": "stream",
     "text": [
      "b'Binary data example'\n"
     ]
    }
   ],
   "source": [
    "file = open('binary_example.bin', 'rb')\n",
    "print(file.read())\n",
    "file.close()"
   ]
  },
  {
   "cell_type": "code",
   "execution_count": 37,
   "id": "8516ef13",
   "metadata": {},
   "outputs": [
    {
     "name": "stdout",
     "output_type": "stream",
     "text": [
      "Current position: 0\n",
      "After seek: Line 1 \n",
      "Line 2 \n",
      "Line 3 \n",
      "\n"
     ]
    }
   ],
   "source": [
    "# Example 5: Using tell() and seek()\n",
    "file = open('example.txt', 'r')\n",
    "print('Current position:', file.tell())\n",
    "file.seek(0)\n",
    "print('After seek:', file.read())\n",
    "file.close()"
   ]
  },
  {
   "cell_type": "markdown",
   "id": "234a370a",
   "metadata": {},
   "source": [
    "## 3. Handling Binary Files\n",
    "Binary files store data in binary format. Python provides the `wb` and `rb` modes for writing and reading binary files.\n",
    "\n",
    "### Examples:"
   ]
  },
  {
   "cell_type": "code",
   "execution_count": 38,
   "id": "15c18bb0",
   "metadata": {},
   "outputs": [],
   "source": [
    "# Example 1: Writing binary data\n",
    "with open('binary_file.bin', 'wb') as file:\n",
    "    file.write(b'Binary content')"
   ]
  },
  {
   "cell_type": "code",
   "execution_count": 39,
   "id": "5743e04c",
   "metadata": {},
   "outputs": [
    {
     "name": "stdout",
     "output_type": "stream",
     "text": [
      "b'Binary content'\n"
     ]
    }
   ],
   "source": [
    "# Example 2: Reading binary data\n",
    "with open('binary_file.bin', 'rb') as file:\n",
    "    print(file.read())"
   ]
  },
  {
   "cell_type": "code",
   "execution_count": 43,
   "id": "9a82ea0a",
   "metadata": {},
   "outputs": [],
   "source": [
    "# Example 3: Copying an image file\n",
    "with open('GVM.jpg', 'rb') as source, open('copy_image.jpg', 'wb') as target:\n",
    "    target.write(source.read())"
   ]
  },
  {
   "cell_type": "code",
   "execution_count": 44,
   "id": "0df7a50c",
   "metadata": {},
   "outputs": [],
   "source": [
    "# Example 4: Appending binary data\n",
    "with open('binary_file.bin', 'ab') as file:\n",
    "    file.write(b' Appended binary content')"
   ]
  },
  {
   "cell_type": "code",
   "execution_count": 45,
   "id": "8612e9d1",
   "metadata": {},
   "outputs": [
    {
     "name": "stdout",
     "output_type": "stream",
     "text": [
      "b'Bina'\n",
      "b'ry c'\n",
      "b'onte'\n",
      "b'nt A'\n",
      "b'ppen'\n",
      "b'ded '\n",
      "b'bina'\n",
      "b'ry c'\n",
      "b'onte'\n",
      "b'nt A'\n",
      "b'ppen'\n",
      "b'ded '\n",
      "b'bina'\n",
      "b'ry c'\n",
      "b'onte'\n",
      "b'nt'\n"
     ]
    }
   ],
   "source": [
    "# Example 5: Reading binary data in chunks\n",
    "with open('binary_file.bin', 'rb') as file:\n",
    "    while chunk := file.read(4):\n",
    "        print(chunk)"
   ]
  },
  {
   "cell_type": "markdown",
   "id": "f2b3461a",
   "metadata": {},
   "source": [
    "## 4. Sequential and Random Access Files\n",
    "Sequential access reads data in order, while random access allows jumping to specific parts of a file using `seek()` and `tell()`.\n",
    "\n",
    "### Examples:"
   ]
  },
  {
   "cell_type": "code",
   "execution_count": 46,
   "id": "bd08da33",
   "metadata": {},
   "outputs": [
    {
     "name": "stdout",
     "output_type": "stream",
     "text": [
      "Line 1 \n",
      "Line 2 \n",
      "Line 3 \n",
      "\n"
     ]
    }
   ],
   "source": [
    "# Example 1: Sequential access\n",
    "file = open('example.txt', 'r')\n",
    "print(file.read())\n",
    "file.close()"
   ]
  },
  {
   "cell_type": "code",
   "execution_count": 47,
   "id": "cb19a691",
   "metadata": {},
   "outputs": [
    {
     "name": "stdout",
     "output_type": "stream",
     "text": [
      "1 \n",
      "Line 2 \n",
      "Line 3 \n",
      "\n"
     ]
    }
   ],
   "source": [
    "# Example 2: Random access\n",
    "file = open('example.txt', 'r')\n",
    "file.seek(5)\n",
    "print(file.read())\n",
    "file.close()"
   ]
  },
  {
   "cell_type": "code",
   "execution_count": 48,
   "id": "7577c9f9",
   "metadata": {},
   "outputs": [
    {
     "name": "stdout",
     "output_type": "stream",
     "text": [
      "Current position: 0\n"
     ]
    }
   ],
   "source": [
    "# Example 3: Using tell()\n",
    "file = open('example.txt', 'r')\n",
    "print('Current position:', file.tell())\n",
    "file.close()"
   ]
  },
  {
   "cell_type": "code",
   "execution_count": 49,
   "id": "15b62674",
   "metadata": {},
   "outputs": [
    {
     "name": "stdout",
     "output_type": "stream",
     "text": [
      "ine 2\n"
     ]
    }
   ],
   "source": [
    "# Example 4: Reading specific bytes\n",
    "file = open('example.txt', 'r')\n",
    "file.seek(10)\n",
    "print(file.read(5))\n",
    "file.close()"
   ]
  },
  {
   "cell_type": "code",
   "execution_count": 50,
   "id": "8293ba20",
   "metadata": {},
   "outputs": [
    {
     "name": "stdout",
     "output_type": "stream",
     "text": [
      "Line 1 \n",
      "Line 2 \n",
      "Line 3 \n",
      "\n"
     ]
    }
   ],
   "source": [
    "# Example 5: Resetting file pointer\n",
    "file = open('example.txt', 'r')\n",
    "file.seek(0)\n",
    "print(file.read())\n",
    "file.close()"
   ]
  },
  {
   "cell_type": "markdown",
   "id": "9dc044ac",
   "metadata": {},
   "source": [
    "## 5. Reading and Writing CSV Files\n",
    "Python's `csv` module simplifies working with CSV files."
   ]
  },
  {
   "cell_type": "markdown",
   "id": "79e48e07",
   "metadata": {},
   "source": [
    "### Writing CSV Files\n",
    "#### Example 1: Basic Writing"
   ]
  },
  {
   "cell_type": "code",
   "execution_count": 53,
   "id": "c557a8d1",
   "metadata": {},
   "outputs": [],
   "source": [
    "# Writing rows to a CSV file\n",
    "with open('data.csv', 'w', newline='') as csvfile:\n",
    "    writer = csv.writer(csvfile)\n",
    "    writer.writerow(['Name', 'Age', 'City'])\n",
    "    writer.writerow(['Alice', 30, 'New York'])\n",
    "    writer.writerow(['Bob', 25, 'Los Angeles'])"
   ]
  },
  {
   "cell_type": "markdown",
   "id": "17695d5f",
   "metadata": {},
   "source": [
    "#### Example 2: Writing with `DictWriter`"
   ]
  },
  {
   "cell_type": "code",
   "execution_count": 54,
   "id": "9189315e",
   "metadata": {},
   "outputs": [],
   "source": [
    "# Writing dictionaries to a CSV file\n",
    "with open('data_dict.csv', 'w', newline='') as csvfile:\n",
    "    fieldnames = ['Name', 'Age', 'City']\n",
    "    writer = csv.DictWriter(csvfile, fieldnames=fieldnames)\n",
    "    writer.writeheader()\n",
    "    writer.writerow({'Name': 'Alice', 'Age': 30, 'City': 'New York'})\n",
    "    writer.writerow({'Name': 'Bob', 'Age': 25, 'City': 'Los Angeles'})"
   ]
  },
  {
   "cell_type": "markdown",
   "id": "664e8852",
   "metadata": {},
   "source": [
    "#### Example 3: Appending to a CSV File"
   ]
  },
  {
   "cell_type": "code",
   "execution_count": 55,
   "id": "0fb86fe6",
   "metadata": {},
   "outputs": [],
   "source": [
    "# Appending rows to an existing CSV file\n",
    "with open('data.csv', 'a', newline='') as csvfile:\n",
    "    writer = csv.writer(csvfile)\n",
    "    writer.writerow(['Charlie', 35, 'Chicago'])\n"
   ]
  },
  {
   "cell_type": "markdown",
   "id": "3cf380d4",
   "metadata": {},
   "source": [
    "### Reading CSV Files\n",
    "#### Example 1: Basic Reading"
   ]
  },
  {
   "cell_type": "code",
   "execution_count": 56,
   "id": "64a8efcd",
   "metadata": {},
   "outputs": [
    {
     "name": "stdout",
     "output_type": "stream",
     "text": [
      "['Name', 'Age', 'City']\n",
      "['Alice', '30', 'New York']\n",
      "['Bob', '25', 'Los Angeles']\n",
      "['Charlie', '35', 'Chicago']\n"
     ]
    }
   ],
   "source": [
    "import csv\n",
    "\n",
    "# Reading rows from a CSV file\n",
    "with open('data.csv', 'r') as csvfile:\n",
    "    reader = csv.reader(csvfile)\n",
    "    for row in reader:\n",
    "        print(row)"
   ]
  },
  {
   "cell_type": "markdown",
   "id": "ff26e05c",
   "metadata": {},
   "source": [
    "#### Example 2: Reading with `DictReader`"
   ]
  },
  {
   "cell_type": "code",
   "execution_count": null,
   "id": "af43ba76",
   "metadata": {},
   "outputs": [
    {
     "name": "stdout",
     "output_type": "stream",
     "text": [
      "{'Name': 'Alice', 'Age': '30', 'City': 'New York'}\n",
      "{'Name': 'Bob', 'Age': '25', 'City': 'Los Angeles'}\n",
      "{'Name': 'Charlie', 'Age': '35', 'City': 'Chicago'}\n"
     ]
    }
   ],
   "source": [
    "# Reading CSV into dictionaries\n",
    "with open('data.csv', 'r') as csvfile:\n",
    "    reader = csv.DictReader(csvfile)\n",
    "    for row in reader:\n",
    "        print(row)"
   ]
  }
 ],
 "metadata": {
  "kernelspec": {
   "display_name": "Python 3",
   "language": "python",
   "name": "python3"
  },
  "language_info": {
   "codemirror_mode": {
    "name": "ipython",
    "version": 3
   },
   "file_extension": ".py",
   "mimetype": "text/x-python",
   "name": "python",
   "nbconvert_exporter": "python",
   "pygments_lexer": "ipython3",
   "version": "3.11.4"
  }
 },
 "nbformat": 4,
 "nbformat_minor": 5
}
