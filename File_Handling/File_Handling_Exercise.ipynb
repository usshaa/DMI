{
  "cells": [
    {
      "cell_type": "markdown",
      "id": "83c86c52",
      "metadata": {
        "id": "83c86c52"
      },
      "source": [
        " # Exercise 1: Opening and Closing a File\n",
        "Open a file named `exercise1.txt` in write mode, write the text 'Hello, File Handling!', and then close the file."
      ]
    },
    {
      "cell_type": "code",
      "execution_count": 1,
      "id": "e1725f1d",
      "metadata": {
        "id": "e1725f1d"
      },
      "outputs": [],
      "source": []
    },
    {
      "cell_type": "markdown",
      "id": "ea3e7244",
      "metadata": {
        "id": "ea3e7244"
      },
      "source": [
        "# Exercise 2: Reading from a File\n",
        "Open the file `exercise1.txt` in read mode and print its contents."
      ]
    },
    {
      "cell_type": "code",
      "execution_count": 2,
      "id": "1d9b8b54",
      "metadata": {
        "id": "1d9b8b54",
        "outputId": "b799b544-677d-4e52-a5d0-91882bd75284",
        "colab": {
          "base_uri": "https://localhost:8080/"
        }
      },
      "outputs": [
        {
          "output_type": "stream",
          "name": "stdout",
          "text": [
            "Hello,File Handling!\n"
          ]
        }
      ],
      "source": []
    },
    {
      "cell_type": "markdown",
      "id": "73a6e64c",
      "metadata": {
        "id": "73a6e64c"
      },
      "source": [
        "# Exercise 3: Writing Multiple Lines\n",
        "Write the following lines to a file named `exercise3.txt`:\n",
        "- Line 1\n",
        "- Line 2\n",
        "- Line 3"
      ]
    },
    {
      "cell_type": "code",
      "execution_count": 4,
      "id": "d6601985",
      "metadata": {
        "id": "d6601985"
      },
      "outputs": [],
      "source": []
    },
    {
      "cell_type": "markdown",
      "id": "33a1a849",
      "metadata": {
        "id": "33a1a849"
      },
      "source": [
        "# Exercise 4: Handling Binary Files\n",
        "Create a binary file named `exercise4.bin` and write the binary data `b'Binary Data Example'` to it."
      ]
    },
    {
      "cell_type": "code",
      "execution_count": 6,
      "id": "471f6f56",
      "metadata": {
        "id": "471f6f56"
      },
      "outputs": [],
      "source": []
    },
    {
      "cell_type": "markdown",
      "id": "aeecf0b0",
      "metadata": {
        "id": "aeecf0b0"
      },
      "source": [
        "# Exercise 5: Sequential and Random Access\n",
        "Open the file `exercise3.txt` and read the second line using the `seek()` method."
      ]
    },
    {
      "cell_type": "code",
      "execution_count": 12,
      "id": "07591054",
      "metadata": {
        "id": "07591054",
        "outputId": "b0bdd820-4c0b-4963-b56d-a606239b054a",
        "colab": {
          "base_uri": "https://localhost:8080/"
        }
      },
      "outputs": [
        {
          "output_type": "stream",
          "name": "stdout",
          "text": [
            "\n",
            "Tesla\n"
          ]
        }
      ],
      "source": []
    },
    {
      "cell_type": "markdown",
      "id": "3bf02def",
      "metadata": {
        "id": "3bf02def"
      },
      "source": [
        "# Exercise 6: Reading a CSV File\n",
        "Read the contents of `data.csv` and print each row."
      ]
    },
    {
      "cell_type": "code",
      "execution_count": 25,
      "id": "307d4284",
      "metadata": {
        "id": "307d4284",
        "outputId": "01379eaf-52ff-431f-cb5f-52ac67e20894",
        "colab": {
          "base_uri": "https://localhost:8080/"
        }
      },
      "outputs": [
        {
          "output_type": "stream",
          "name": "stdout",
          "text": [
            "['Name', 'Age', 'City']\n",
            "['Alice', '30', 'New York']\n",
            "['Bob', '25', 'Los Angeles']\n"
          ]
        }
      ],
      "source": []
    },
    {
      "cell_type": "markdown",
      "id": "ca3f2677",
      "metadata": {
        "id": "ca3f2677"
      },
      "source": [
        "# Exercise 7: Writing to a CSV File\n",
        "Write the following data to a CSV file named `exercise7.csv`:\n",
        "- Name, Age, City\n",
        "- Alice, 30, New York\n",
        "- Bob, 25, Los Angeles"
      ]
    },
    {
      "cell_type": "code",
      "execution_count": 24,
      "id": "9e51db06",
      "metadata": {
        "id": "9e51db06"
      },
      "outputs": [],
      "source": []
    },
    {
      "cell_type": "code",
      "source": [],
      "metadata": {
        "id": "Qp_RJe9FLLWg"
      },
      "id": "Qp_RJe9FLLWg",
      "execution_count": null,
      "outputs": []
    }
  ],
  "metadata": {
    "language_info": {
      "name": "python"
    },
    "colab": {
      "provenance": [],
      "gpuType": "T4"
    },
    "kernelspec": {
      "name": "python3",
      "display_name": "Python 3"
    },
    "accelerator": "GPU"
  },
  "nbformat": 4,
  "nbformat_minor": 5
}